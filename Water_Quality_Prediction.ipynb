{
 "cells": [
  {
   "cell_type": "code",
   "execution_count": 1,
   "id": "6b24a164",
   "metadata": {},
   "outputs": [],
   "source": [
    "# WEEK 1\n",
    "\n",
    "# Importing necessary libraries\n",
    "import pandas as pd\n",
    "import numpy as np \n",
    "\n",
    "from sklearn.multioutput import MultiOutputRegressor\n",
    "from sklearn.ensemble import RandomForestRegressor\n",
    "from sklearn.model_selection import train_test_split\n",
    "from sklearn.metrics import mean_squared_error, r2_score"
   ]
  },
  {
   "cell_type": "code",
   "execution_count": 2,
   "id": "248f3530",
   "metadata": {},
   "outputs": [
    {
     "name": "stdout",
     "output_type": "stream",
     "text": [
      "      id        date    NH4  BSK5  Suspended     O2    NO3    NO2     SO4  \\\n",
      "0      1  17.02.2000  0.330  2.77       12.0  12.30   9.50  0.057  154.00   \n",
      "1      1  11.05.2000  0.044  3.00       51.6  14.61  17.75  0.034  352.00   \n",
      "2      1  11.09.2000  0.032  2.10       24.5   9.87  13.80  0.173  416.00   \n",
      "3      1  13.12.2000  0.170  2.23       35.6  12.40  17.13  0.099  275.20   \n",
      "4      1  02.03.2001  0.000  3.03       48.8  14.69  10.00  0.065  281.60   \n",
      "...   ..         ...    ...   ...        ...    ...    ...    ...     ...   \n",
      "2856  22  06.10.2020  0.046  2.69        3.6   8.28   3.80  0.038  160.00   \n",
      "2857  22  27.10.2020  0.000  1.52        0.5  11.26   0.56  0.031  147.20   \n",
      "2858  22  03.12.2020  0.034  0.29        0.8  11.09   2.58  0.042  209.92   \n",
      "2859  22  12.01.2021  0.000  2.10        0.0  14.31   3.94  0.034  121.60   \n",
      "2860  22  10.02.2021  0.000  1.78        0.0  14.30   6.30  0.033  134.40   \n",
      "\n",
      "        PO4       CL  \n",
      "0     0.454   289.50  \n",
      "1     0.090  1792.00  \n",
      "2     0.200  2509.00  \n",
      "3     0.377  1264.00  \n",
      "4     0.134  1462.00  \n",
      "...     ...      ...  \n",
      "2856  0.726    77.85  \n",
      "2857  0.634    71.95  \n",
      "2858  0.484    61.17  \n",
      "2859  0.424    63.49  \n",
      "2860  0.582    66.31  \n",
      "\n",
      "[2861 rows x 11 columns]\n"
     ]
    }
   ],
   "source": [
    "df = pd.read_csv(r'dataset.csv', sep=';')\n",
    "print(df)\n"
   ]
  },
  {
   "cell_type": "code",
   "execution_count": 3,
   "id": "9916df2d",
   "metadata": {},
   "outputs": [
    {
     "name": "stdout",
     "output_type": "stream",
     "text": [
      "<class 'pandas.core.frame.DataFrame'>\n",
      "RangeIndex: 2861 entries, 0 to 2860\n",
      "Data columns (total 11 columns):\n",
      " #   Column     Non-Null Count  Dtype  \n",
      "---  ------     --------------  -----  \n",
      " 0   id         2861 non-null   int64  \n",
      " 1   date       2861 non-null   object \n",
      " 2   NH4        2858 non-null   float64\n",
      " 3   BSK5       2860 non-null   float64\n",
      " 4   Suspended  2845 non-null   float64\n",
      " 5   O2         2858 non-null   float64\n",
      " 6   NO3        2860 non-null   float64\n",
      " 7   NO2        2858 non-null   float64\n",
      " 8   SO4        2812 non-null   float64\n",
      " 9   PO4        2833 non-null   float64\n",
      " 10  CL         2812 non-null   float64\n",
      "dtypes: float64(9), int64(1), object(1)\n",
      "memory usage: 246.0+ KB\n",
      "None\n"
     ]
    }
   ],
   "source": [
    "#Information about the dataset\n",
    "print(df.info())"
   ]
  },
  {
   "cell_type": "code",
   "execution_count": 4,
   "id": "10cc3712",
   "metadata": {},
   "outputs": [
    {
     "name": "stdout",
     "output_type": "stream",
     "text": [
      "(2861, 11)\n"
     ]
    }
   ],
   "source": [
    "#r Rows and columns\n",
    "print(df.shape)"
   ]
  },
  {
   "cell_type": "code",
   "execution_count": 5,
   "id": "a693a731",
   "metadata": {},
   "outputs": [
    {
     "name": "stdout",
     "output_type": "stream",
     "text": [
      "            count       mean         std   min      25%     50%       75%  \\\n",
      "id         2861.0  12.397064    6.084226  1.00   8.0000  14.000  16.00000   \n",
      "NH4        2858.0   0.758734    2.486247  0.00   0.0800   0.220   0.50000   \n",
      "BSK5       2860.0   4.316182    2.973997  0.00   2.1600   3.800   5.80000   \n",
      "Suspended  2845.0  12.931905   16.543097  0.00   6.0000  10.000  15.00000   \n",
      "O2         2858.0   9.508902    4.428260  0.00   7.0925   8.995  11.52000   \n",
      "NO3        2860.0   4.316846    6.881188  0.00   1.3900   2.800   5.58250   \n",
      "NO2        2858.0   0.246128    2.182777  0.00   0.0300   0.059   0.12575   \n",
      "SO4        2812.0  59.362313   96.582641  0.00  27.0525  37.800  64.64000   \n",
      "PO4        2833.0   0.418626    0.771326  0.00   0.1300   0.270   0.47000   \n",
      "CL         2812.0  93.731991  394.512184  0.02  26.8000  33.900  45.60750   \n",
      "\n",
      "                max  \n",
      "id           22.000  \n",
      "NH4          39.427  \n",
      "BSK5         50.900  \n",
      "Suspended   595.000  \n",
      "O2           90.000  \n",
      "NO3         133.400  \n",
      "NO2         109.000  \n",
      "SO4        3573.400  \n",
      "PO4          13.879  \n",
      "CL         5615.280  \n"
     ]
    }
   ],
   "source": [
    "# Stats of dataset\n",
    "print(df.describe().T)"
   ]
  },
  {
   "cell_type": "code",
   "execution_count": 6,
   "metadata": {},
   "outputs": [
    {
     "name": "stdout",
     "output_type": "stream",
     "text": [
      "id            0\n",
      "date          0\n",
      "NH4           3\n",
      "BSK5          1\n",
      "Suspended    16\n",
      "O2            3\n",
      "NO3           1\n",
      "NO2           3\n",
      "SO4          49\n",
      "PO4          28\n",
      "CL           49\n",
      "dtype: int64\n"
     ]
    }
   ],
   "source": [
    "# Check for Missing values\n",
    "print(df.isnull().sum())"
   ]
  },
  {
   "cell_type": "code",
   "execution_count": 7,
   "id": "c10e13aa",
   "metadata": {},
   "outputs": [
    {
     "name": "stdout",
     "output_type": "stream",
     "text": [
      "<class 'pandas.core.frame.DataFrame'>\n",
      "RangeIndex: 2861 entries, 0 to 2860\n",
      "Data columns (total 11 columns):\n",
      " #   Column     Non-Null Count  Dtype         \n",
      "---  ------     --------------  -----         \n",
      " 0   id         2861 non-null   int64         \n",
      " 1   date       2861 non-null   datetime64[ns]\n",
      " 2   NH4        2858 non-null   float64       \n",
      " 3   BSK5       2860 non-null   float64       \n",
      " 4   Suspended  2845 non-null   float64       \n",
      " 5   O2         2858 non-null   float64       \n",
      " 6   NO3        2860 non-null   float64       \n",
      " 7   NO2        2858 non-null   float64       \n",
      " 8   SO4        2812 non-null   float64       \n",
      " 9   PO4        2833 non-null   float64       \n",
      " 10  CL         2812 non-null   float64       \n",
      "dtypes: datetime64[ns](1), float64(9), int64(1)\n",
      "memory usage: 246.0 KB\n",
      "None\n"
     ]
    }
   ],
   "source": [
    "# date is in datetime format\n",
    "df['date'] = pd.to_datetime(df['date'], format='%d.%m.%Y')\n",
    "print(df.info())"
   ]
  },
  {
   "cell_type": "code",
   "execution_count": 8,
   "id": "be5d22fe",
   "metadata": {},
   "outputs": [
    {
     "name": "stdout",
     "output_type": "stream",
     "text": [
      "   id       date    NH4  BSK5  Suspended     O2    NO3    NO2    SO4    PO4  \\\n",
      "0   1 2000-02-17  0.330  2.77       12.0  12.30   9.50  0.057  154.0  0.454   \n",
      "1   1 2000-05-11  0.044  3.00       51.6  14.61  17.75  0.034  352.0  0.090   \n",
      "2   1 2000-09-11  0.032  2.10       24.5   9.87  13.80  0.173  416.0  0.200   \n",
      "3   1 2000-12-13  0.170  2.23       35.6  12.40  17.13  0.099  275.2  0.377   \n",
      "4   1 2001-03-02  0.000  3.03       48.8  14.69  10.00  0.065  281.6  0.134   \n",
      "\n",
      "       CL  \n",
      "0   289.5  \n",
      "1  1792.0  \n",
      "2  2509.0  \n",
      "3  1264.0  \n",
      "4  1462.0  \n",
      "   id       date    NH4  BSK5  Suspended     O2    NO3    NO2    SO4    PO4  \\\n",
      "0   1 2000-02-17  0.330  2.77       12.0  12.30   9.50  0.057  154.0  0.454   \n",
      "1   1 2000-05-11  0.044  3.00       51.6  14.61  17.75  0.034  352.0  0.090   \n",
      "2   1 2000-09-11  0.032  2.10       24.5   9.87  13.80  0.173  416.0  0.200   \n",
      "3   1 2000-12-13  0.170  2.23       35.6  12.40  17.13  0.099  275.2  0.377   \n",
      "4   1 2001-03-02  0.000  3.03       48.8  14.69  10.00  0.065  281.6  0.134   \n",
      "\n",
      "       CL  year  month  \n",
      "0   289.5  2000      2  \n",
      "1  1792.0  2000      5  \n",
      "2  2509.0  2000      9  \n",
      "3  1264.0  2000     12  \n",
      "4  1462.0  2001      3  \n",
      "Index(['id', 'date', 'NH4', 'BSK5', 'Suspended', 'O2', 'NO3', 'NO2', 'SO4',\n",
      "       'PO4', 'CL', 'year', 'month'],\n",
      "      dtype='object')\n"
     ]
    }
   ],
   "source": [
    "# Short dataset\n",
    "\n",
    "df = df.sort_values(by= ['id', 'date'])\n",
    "print(df.head())\n",
    "\n",
    "df['year'] = df['date'].dt.year\n",
    "df['month'] = df['date'].dt.month\n",
    "print(df.head())\n",
    "\n",
    "print(df.columns)"
   ]
  },
  {
   "cell_type": "code",
   "execution_count": 9,
   "id": "9621904b",
   "metadata": {},
   "outputs": [
    {
     "name": "stdout",
     "output_type": "stream",
     "text": [
      "['O2', 'NO3', 'NO2', 'NH4', 'SO4', 'PO4', 'CL']\n"
     ]
    }
   ],
   "source": [
    "# Pollutants\n",
    "\n",
    "pollutants = [ 'O2','NO3','NO2','NH4','SO4','PO4','CL']\n",
    "print(pollutants)"
   ]
  },
  {
   "cell_type": "code",
   "execution_count": 10,
   "id": "af32cc15",
   "metadata": {},
   "outputs": [
    {
     "name": "stdout",
     "output_type": "stream",
     "text": [
      "   id       date    NH4  BSK5  Suspended     O2    NO3    NO2    SO4    PO4  \\\n",
      "0   1 2000-02-17  0.330  2.77       12.0  12.30   9.50  0.057  154.0  0.454   \n",
      "1   1 2000-05-11  0.044  3.00       51.6  14.61  17.75  0.034  352.0  0.090   \n",
      "2   1 2000-09-11  0.032  2.10       24.5   9.87  13.80  0.173  416.0  0.200   \n",
      "3   1 2000-12-13  0.170  2.23       35.6  12.40  17.13  0.099  275.2  0.377   \n",
      "4   1 2001-03-02  0.000  3.03       48.8  14.69  10.00  0.065  281.6  0.134   \n",
      "\n",
      "       CL  year  month  \n",
      "0   289.5  2000      2  \n",
      "1  1792.0  2000      5  \n",
      "2  2509.0  2000      9  \n",
      "3  1264.0  2000     12  \n",
      "4  1462.0  2001      3  \n",
      "id           0\n",
      "date         0\n",
      "NH4          0\n",
      "BSK5         0\n",
      "Suspended    2\n",
      "O2           0\n",
      "NO3          0\n",
      "NO2          0\n",
      "SO4          0\n",
      "PO4          0\n",
      "CL           0\n",
      "year         0\n",
      "month        0\n",
      "dtype: int64\n"
     ]
    }
   ],
   "source": [
    "# WEEK 2\n",
    "\n",
    "# Drop the missing values\n",
    "\n",
    "df = df.dropna(subset=pollutants)\n",
    "print(df.head())\n",
    "\n",
    "print(df.isnull().sum())\n"
   ]
  },
  {
   "cell_type": "code",
   "execution_count": 11,
   "id": "1a2f4545",
   "metadata": {},
   "outputs": [
    {
     "name": "stdout",
     "output_type": "stream",
     "text": [
      "   year   id_2   id_3   id_4   id_5   id_6   id_7   id_8   id_9  id_10  ...  \\\n",
      "0  2000  False  False  False  False  False  False  False  False  False  ...   \n",
      "1  2000  False  False  False  False  False  False  False  False  False  ...   \n",
      "2  2000  False  False  False  False  False  False  False  False  False  ...   \n",
      "3  2000  False  False  False  False  False  False  False  False  False  ...   \n",
      "4  2001  False  False  False  False  False  False  False  False  False  ...   \n",
      "\n",
      "   id_13  id_14  id_15  id_16  id_17  id_18  id_19  id_20  id_21  id_22  \n",
      "0  False  False  False  False  False  False  False  False  False  False  \n",
      "1  False  False  False  False  False  False  False  False  False  False  \n",
      "2  False  False  False  False  False  False  False  False  False  False  \n",
      "3  False  False  False  False  False  False  False  False  False  False  \n",
      "4  False  False  False  False  False  False  False  False  False  False  \n",
      "\n",
      "[5 rows x 22 columns]\n"
     ]
    }
   ],
   "source": [
    "# Features and Target Selection\n",
    "# Feature - Dependent Variable and Target - Independent Variable\n",
    "x = df[['id', 'year']]\n",
    "y = df[pollutants]\n",
    "\n",
    "# Encodding  - onehotender \n",
    "# example : we have 22 stationand for station 1 it gives 1 and  for other remailning it is 0\n",
    "# similary for station 2 it gives 1 and  for other remailning it is 0\n",
    "\n",
    "x_encoded = pd.get_dummies(x, columns=['id'], drop_first=True)\n",
    "print(x_encoded.head())"
   ]
  },
  {
   "cell_type": "code",
   "execution_count": 12,
   "id": "a9601a4b",
   "metadata": {},
   "outputs": [
    {
     "name": "stdout",
     "output_type": "stream",
     "text": [
      "(2222, 22) (556, 22) (2222, 7) (556, 7)\n"
     ]
    }
   ],
   "source": [
    "# Train Test Split\n",
    "\n",
    "x_train, x_test, y_train, y_test = train_test_split(\n",
    "    x_encoded, y, test_size=0.2, random_state=30\n",
    "    )\n",
    "\n",
    "print(x_train.shape, x_test.shape, y_train.shape, y_test.shape)"
   ]
  },
  {
   "cell_type": "code",
   "execution_count": 13,
   "id": "084a3ec4",
   "metadata": {},
   "outputs": [
    {
     "name": "stdout",
     "output_type": "stream",
     "text": [
      "MultiOutputRegressor(estimator=RandomForestRegressor(random_state=30))\n"
     ]
    }
   ],
   "source": [
    "\n",
    "# Train the model\n",
    "model = MultiOutputRegressor(RandomForestRegressor(n_estimators=100, random_state=30))\n",
    "model.fit(x_train, y_train)\n",
    "\n",
    "print(model)"
   ]
  },
  {
   "cell_type": "code",
   "execution_count": 14,
   "id": "60c4ca09",
   "metadata": {},
   "outputs": [],
   "source": [
    "# Evaluate model\n",
    "y_pred = model.predict(x_test)"
   ]
  },
  {
   "cell_type": "code",
   "execution_count": 15,
   "id": "f2885e7e",
   "metadata": {},
   "outputs": [
    {
     "name": "stdout",
     "output_type": "stream",
     "text": [
      "Model Performance on Data:\n",
      "O2 :\n",
      "     MSE :  15.356771061910036\n",
      "     R2  :  -0.23519359663173933\n",
      "NO3 :\n",
      "     MSE :  15.249748538389527\n",
      "     R2  :  0.2437749183580169\n",
      "NO2 :\n",
      "     MSE :  4.479539340299158\n",
      "     R2  :  -9.468673899139464\n",
      "NH4 :\n",
      "     MSE :  1.4167798129431093\n",
      "     R2  :  0.6020540538710478\n",
      "SO4 :\n",
      "     MSE :  3937.4037014146825\n",
      "     R2  :  0.2237143891172455\n",
      "PO4 :\n",
      "     MSE :  0.19029809298888703\n",
      "     R2  :  0.5448278579506476\n",
      "CL :\n",
      "     MSE :  36967.52840059383\n",
      "     R2  :  0.7555297921222058\n"
     ]
    }
   ],
   "source": [
    "print(\"Model Performance on Data:\")\n",
    "for i, pollutant in enumerate(pollutants):\n",
    "    print(f'{pollutant} :')\n",
    "    print('     MSE : ', mean_squared_error(y_test.iloc[:, i], y_pred[:, i]))\n",
    "    print('     R2  : ', r2_score(y_test.iloc[:, i], y_pred[:, i]))\n"
   ]
  },
  {
   "cell_type": "code",
   "execution_count": 16,
   "id": "f65147bf",
   "metadata": {},
   "outputs": [
    {
     "name": "stdout",
     "output_type": "stream",
     "text": [
      "Pridicted Pollutants for Station ID 22 in Year 2023:\n",
      "O2: 13.72\n",
      "NO3: 5.34\n",
      "NO2: 0.05\n",
      "NH4: 0.01\n",
      "SO4: 136.83\n",
      "PO4: 0.42\n",
      "CL: 65.32\n"
     ]
    }
   ],
   "source": [
    "# Pridicting on new data\n",
    "\n",
    "station_id = '22' # replace with the station id you want to predict\n",
    "year_input = 2023 # replace with the year you want to predict\n",
    "\n",
    "\n",
    "# Creating a DataFrame for the new input\n",
    "\n",
    "input_data = pd.DataFrame({'year': [year_input], 'id': [station_id]})\n",
    "input_encodeded = pd.get_dummies(input_data, columns=['id'])\n",
    "\n",
    "# Aligning the training feature columns\n",
    "\n",
    "missing_cols = set(x_encoded.columns) - set(input_encodeded.columns)\n",
    "for col in missing_cols:\n",
    "    input_encodeded[col] = 0\n",
    "input_encodeded = input_encodeded[x_encoded.columns]  # recorder column\n",
    "\n",
    "# Predicting the pollutants for the new input\n",
    "\n",
    "predicted_pollutants = model.predict(input_encodeded)[0]\n",
    "\n",
    "print(f\"Pridicted Pollutants for Station ID {station_id} in Year {year_input}:\")\n",
    "for pollutant, value in zip(pollutants, predicted_pollutants):\n",
    "    print(f\"{pollutant}: {value:.2f}\")"
   ]
  },
  {
   "cell_type": "code",
   "execution_count": 17,
   "id": "92f1d8ad",
   "metadata": {},
   "outputs": [
    {
     "name": "stdout",
     "output_type": "stream",
     "text": [
      "Model and feature columns saved successfully.\n"
     ]
    }
   ],
   "source": [
    "# Save the model\n",
    "import joblib\n",
    "joblib.dump(model, 'water_quality_model.pkl')\n",
    "joblib.dump(x_encoded.columns.tolist(), 'feature_columns.pkl')\n",
    "print(\"Model and feature columns saved successfully.\")"
   ]
  }
 ],
 "metadata": {
  "kernelspec": {
   "display_name": "Python 3",
   "language": "python",
   "name": "python3"
  },
  "language_info": {
   "codemirror_mode": {
    "name": "ipython",
    "version": 3
   },
   "file_extension": ".py",
   "mimetype": "text/x-python",
   "name": "python",
   "nbconvert_exporter": "python",
   "pygments_lexer": "ipython3",
   "version": "3.13.5"
  }
 },
 "nbformat": 4,
 "nbformat_minor": 5
}
